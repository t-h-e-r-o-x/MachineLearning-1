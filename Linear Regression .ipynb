{
 "cells": [
  {
   "cell_type": "code",
   "execution_count": 6,
   "metadata": {},
   "outputs": [
    {
     "name": "stdout",
     "output_type": "stream",
     "text": [
      "100.0\n"
     ]
    }
   ],
   "source": [
    "import numpy as np\n",
    "\n",
    "x = [1,2,3,4]\n",
    "y = [1,2,3,4]\n",
    "\n",
    "\n",
    "x_test = [5,6]\n",
    "y_test = [5, 6]\n",
    "\n",
    "\n",
    "x = np.array(x)\n",
    "y = np.array(y)\n",
    "\n",
    "def linear_reg(x, y, x_test, y_test):\n",
    "    m = ((np.mean(x*y) - (np.mean(x)*np.mean(y))))/(np.mean(x*x) - (np.mean(x)*np.mean(x)))\n",
    "    c = np.mean(y) - m*np.mean(x)\n",
    "\n",
    "    correct, total = 0, 0\n",
    "    for i in range(0,len(x_test)):\n",
    "        y_pred = m * x_test[i] + c\n",
    "        if(y_pred == y_test[i]):\n",
    "            correct += 1\n",
    "        total += 1\n",
    "    print(correct/total*100)\n",
    "\n",
    "linear_reg(x, y, x_test, y_test)"
   ]
  },
  {
   "cell_type": "code",
   "execution_count": null,
   "metadata": {},
   "outputs": [],
   "source": []
  }
 ],
 "metadata": {
  "kernelspec": {
   "display_name": "Python 3",
   "language": "python",
   "name": "python3"
  },
  "language_info": {
   "codemirror_mode": {
    "name": "ipython",
    "version": 3
   },
   "file_extension": ".py",
   "mimetype": "text/x-python",
   "name": "python",
   "nbconvert_exporter": "python",
   "pygments_lexer": "ipython3",
   "version": "3.7.3"
  }
 },
 "nbformat": 4,
 "nbformat_minor": 2
}
